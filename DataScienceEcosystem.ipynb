{
 "cells": [
  {
   "cell_type": "markdown",
   "id": "d902fecd-6a94-49ab-a6f0-1bc65ea8886c",
   "metadata": {
    "tags": []
   },
   "source": [
    "# Data Science Tools and Ecosystem"
   ]
  },
  {
   "cell_type": "markdown",
   "id": "a7a04558-6493-428d-a3f8-5d5ba859f9d5",
   "metadata": {},
   "source": [
    "# In this notebook, Data Science Tools and Ecosystem are summarized."
   ]
  },
  {
   "cell_type": "markdown",
   "id": "ed928019-156a-4448-a11a-648e57a5cc4a",
   "metadata": {},
   "source": [
    "# **Objectives:**\n",
    "- List popular languages for Data Science.\n",
    "- Librairies used by Data Scientists \n",
    "- Development environnements for Data Science."
   ]
  },
  {
   "cell_type": "markdown",
   "id": "bbef0deb-03b4-4505-91fb-b462b6433681",
   "metadata": {},
   "source": [
    "# Some of the popular languages that Data Scientists use are:\n",
    "1. Pyhton\n",
    "2. SQL\n",
    "3. R"
   ]
  },
  {
   "cell_type": "markdown",
   "id": "c4ab7221-b048-4e27-915b-079d80035f02",
   "metadata": {},
   "source": [
    "# Some of the commonly used libraries used by Data Scientists include:\n",
    "1. NumPy\n",
    "2. Pandas \n",
    "3. Matplotlib\n",
    "4. seaborn"
   ]
  },
  {
   "cell_type": "markdown",
   "id": "2a28a570-e2ce-4a76-8d8f-37caab608274",
   "metadata": {},
   "source": [
    "|Data Science Tools|\n",
    "---------------------\n",
    "|RStdio|\n",
    "|Jupyter Notebook|\n",
    "|Vs Code with Python|"
   ]
  },
  {
   "cell_type": "code",
   "execution_count": 2,
   "id": "9063490c-38e9-437e-8aed-5666c259a53c",
   "metadata": {
    "tags": []
   },
   "outputs": [
    {
     "data": {
      "text/plain": [
       "17"
      ]
     },
     "execution_count": 2,
     "metadata": {},
     "output_type": "execute_result"
    }
   ],
   "source": [
    "(3*4)+5\n",
    "# This a simple arithmetic expression to mutiply then add integers."
   ]
  },
  {
   "cell_type": "code",
   "execution_count": 3,
   "id": "6e2a99af-56e3-46e1-a8b3-72e1b95681e1",
   "metadata": {
    "tags": []
   },
   "outputs": [
    {
     "data": {
      "text/plain": [
       "3.3333333333333335"
      ]
     },
     "execution_count": 3,
     "metadata": {},
     "output_type": "execute_result"
    }
   ],
   "source": [
    "# This will convert 200 minutes to hours by diving by 60.\n",
    "200/60"
   ]
  },
  {
   "cell_type": "markdown",
   "id": "2c5d1c9a-8899-4f97-9da9-8229eda17e6c",
   "metadata": {},
   "source": [
    "## Author \n",
    "Aboubacar GUIDIERA "
   ]
  }
 ],
 "metadata": {
  "kernelspec": {
   "display_name": "Python",
   "language": "python",
   "name": "conda-env-python-py"
  },
  "language_info": {
   "codemirror_mode": {
    "name": "ipython",
    "version": 3
   },
   "file_extension": ".py",
   "mimetype": "text/x-python",
   "name": "python",
   "nbconvert_exporter": "python",
   "pygments_lexer": "ipython3",
   "version": "3.7.12"
  }
 },
 "nbformat": 4,
 "nbformat_minor": 5
}
